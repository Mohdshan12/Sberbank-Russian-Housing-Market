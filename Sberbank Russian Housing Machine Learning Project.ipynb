{
 "cells": [
  {
   "cell_type": "markdown",
   "metadata": {},
   "source": [
    "## Machine Learning ProcessSteps in Data Preprocessing"
   ]
  },
  {
   "cell_type": "markdown",
   "metadata": {},
   "source": [
    "#### Step 1 : Import the libraries\n",
    "#### Step 2 : Import the data-set\n",
    "#### Step 3 : Check out the missing values\n",
    "#### Step 4 : See the Categorical Values\n",
    "#### Step 5 : Splitting the data-set into Training and Test Set\n",
    "#### Step 6 : Feature Scaling"
   ]
  },
  {
   "cell_type": "markdown",
   "metadata": {},
   "source": [
    "# Step 1 : Import the libraries"
   ]
  },
  {
   "cell_type": "code",
   "execution_count": 1,
   "metadata": {},
   "outputs": [],
   "source": [
    "import pandas as pd\n",
    "import numpy as np\n",
    "import matplotlib.pyplot as plt\n",
    "import seaborn as sns\n",
    "from sklearn.linear_model import LinearRegression\n",
    "from sklearn.ensemble import RandomForestRegressor"
   ]
  },
  {
   "cell_type": "markdown",
   "metadata": {},
   "source": [
    "# Step 2 : Import the data-set"
   ]
  },
  {
   "cell_type": "code",
   "execution_count": 2,
   "metadata": {},
   "outputs": [],
   "source": [
    "df_train = pd.read_csv('train.csv', parse_dates=['timestamp'])\n",
    "df_test = pd.read_csv('test.csv', parse_dates=['timestamp'])\n",
    "df_marco = pd.read_csv('macro.csv', parse_dates=['timestamp'])\n",
    "y_test = pd.read_csv('sample_submission.csv')"
   ]
  },
  {
   "cell_type": "code",
   "execution_count": 3,
   "metadata": {},
   "outputs": [
    {
     "name": "stdout",
     "output_type": "stream",
     "text": [
      "Shape of df (30471, 292)\n",
      "Shape of df (7662, 291)\n",
      "Shape of df (2484, 100)\n"
     ]
    }
   ],
   "source": [
    "print('Shape of df',df_train.shape)\n",
    "print('Shape of df',df_test.shape)\n",
    "print('Shape of df',df_marco.shape)"
   ]
  },
  {
   "cell_type": "code",
   "execution_count": 4,
   "metadata": {},
   "outputs": [],
   "source": [
    "id_test = df_test.id\n",
    "y = df_train['price_doc']\n",
    "ylog1p_train = np.log1p(df_train['price_doc'].values)\n",
    "df_train = df_train.drop([\"price_doc\"], axis=1)\n",
    "\n",
    "df_train[\"trainOrTest\"] = \"train\"\n",
    "df_test[\"trainOrTest\"] = \"test\"\n",
    "df_all = pd.concat([df_train, df_test])\n",
    "df_all = df_all.drop(\"id\", axis=1)"
   ]
  },
  {
   "cell_type": "code",
   "execution_count": 5,
   "metadata": {},
   "outputs": [
    {
     "data": {
      "text/html": [
       "<div>\n",
       "<style scoped>\n",
       "    .dataframe tbody tr th:only-of-type {\n",
       "        vertical-align: middle;\n",
       "    }\n",
       "\n",
       "    .dataframe tbody tr th {\n",
       "        vertical-align: top;\n",
       "    }\n",
       "\n",
       "    .dataframe thead th {\n",
       "        text-align: right;\n",
       "    }\n",
       "</style>\n",
       "<table border=\"1\" class=\"dataframe\">\n",
       "  <thead>\n",
       "    <tr style=\"text-align: right;\">\n",
       "      <th></th>\n",
       "      <th>timestamp</th>\n",
       "      <th>full_sq</th>\n",
       "      <th>life_sq</th>\n",
       "      <th>floor</th>\n",
       "      <th>max_floor</th>\n",
       "      <th>material</th>\n",
       "      <th>build_year</th>\n",
       "      <th>num_room</th>\n",
       "      <th>kitch_sq</th>\n",
       "      <th>state</th>\n",
       "      <th>...</th>\n",
       "      <th>cafe_count_5000_price_2500</th>\n",
       "      <th>cafe_count_5000_price_4000</th>\n",
       "      <th>cafe_count_5000_price_high</th>\n",
       "      <th>big_church_count_5000</th>\n",
       "      <th>church_count_5000</th>\n",
       "      <th>mosque_count_5000</th>\n",
       "      <th>leisure_count_5000</th>\n",
       "      <th>sport_count_5000</th>\n",
       "      <th>market_count_5000</th>\n",
       "      <th>trainOrTest</th>\n",
       "    </tr>\n",
       "  </thead>\n",
       "  <tbody>\n",
       "    <tr>\n",
       "      <th>0</th>\n",
       "      <td>2011-08-20</td>\n",
       "      <td>43.0</td>\n",
       "      <td>27.0</td>\n",
       "      <td>4.0</td>\n",
       "      <td>NaN</td>\n",
       "      <td>NaN</td>\n",
       "      <td>NaN</td>\n",
       "      <td>NaN</td>\n",
       "      <td>NaN</td>\n",
       "      <td>NaN</td>\n",
       "      <td>...</td>\n",
       "      <td>9</td>\n",
       "      <td>4</td>\n",
       "      <td>0</td>\n",
       "      <td>13</td>\n",
       "      <td>22</td>\n",
       "      <td>1</td>\n",
       "      <td>0</td>\n",
       "      <td>52</td>\n",
       "      <td>4</td>\n",
       "      <td>train</td>\n",
       "    </tr>\n",
       "    <tr>\n",
       "      <th>1</th>\n",
       "      <td>2011-08-23</td>\n",
       "      <td>34.0</td>\n",
       "      <td>19.0</td>\n",
       "      <td>3.0</td>\n",
       "      <td>NaN</td>\n",
       "      <td>NaN</td>\n",
       "      <td>NaN</td>\n",
       "      <td>NaN</td>\n",
       "      <td>NaN</td>\n",
       "      <td>NaN</td>\n",
       "      <td>...</td>\n",
       "      <td>15</td>\n",
       "      <td>3</td>\n",
       "      <td>0</td>\n",
       "      <td>15</td>\n",
       "      <td>29</td>\n",
       "      <td>1</td>\n",
       "      <td>10</td>\n",
       "      <td>66</td>\n",
       "      <td>14</td>\n",
       "      <td>train</td>\n",
       "    </tr>\n",
       "    <tr>\n",
       "      <th>2</th>\n",
       "      <td>2011-08-27</td>\n",
       "      <td>43.0</td>\n",
       "      <td>29.0</td>\n",
       "      <td>2.0</td>\n",
       "      <td>NaN</td>\n",
       "      <td>NaN</td>\n",
       "      <td>NaN</td>\n",
       "      <td>NaN</td>\n",
       "      <td>NaN</td>\n",
       "      <td>NaN</td>\n",
       "      <td>...</td>\n",
       "      <td>10</td>\n",
       "      <td>3</td>\n",
       "      <td>0</td>\n",
       "      <td>11</td>\n",
       "      <td>27</td>\n",
       "      <td>0</td>\n",
       "      <td>4</td>\n",
       "      <td>67</td>\n",
       "      <td>10</td>\n",
       "      <td>train</td>\n",
       "    </tr>\n",
       "    <tr>\n",
       "      <th>3</th>\n",
       "      <td>2011-09-01</td>\n",
       "      <td>89.0</td>\n",
       "      <td>50.0</td>\n",
       "      <td>9.0</td>\n",
       "      <td>NaN</td>\n",
       "      <td>NaN</td>\n",
       "      <td>NaN</td>\n",
       "      <td>NaN</td>\n",
       "      <td>NaN</td>\n",
       "      <td>NaN</td>\n",
       "      <td>...</td>\n",
       "      <td>11</td>\n",
       "      <td>2</td>\n",
       "      <td>1</td>\n",
       "      <td>4</td>\n",
       "      <td>4</td>\n",
       "      <td>0</td>\n",
       "      <td>0</td>\n",
       "      <td>26</td>\n",
       "      <td>3</td>\n",
       "      <td>train</td>\n",
       "    </tr>\n",
       "    <tr>\n",
       "      <th>4</th>\n",
       "      <td>2011-09-05</td>\n",
       "      <td>77.0</td>\n",
       "      <td>77.0</td>\n",
       "      <td>4.0</td>\n",
       "      <td>NaN</td>\n",
       "      <td>NaN</td>\n",
       "      <td>NaN</td>\n",
       "      <td>NaN</td>\n",
       "      <td>NaN</td>\n",
       "      <td>NaN</td>\n",
       "      <td>...</td>\n",
       "      <td>319</td>\n",
       "      <td>108</td>\n",
       "      <td>17</td>\n",
       "      <td>135</td>\n",
       "      <td>236</td>\n",
       "      <td>2</td>\n",
       "      <td>91</td>\n",
       "      <td>195</td>\n",
       "      <td>14</td>\n",
       "      <td>train</td>\n",
       "    </tr>\n",
       "  </tbody>\n",
       "</table>\n",
       "<p>5 rows × 291 columns</p>\n",
       "</div>"
      ],
      "text/plain": [
       "   timestamp  full_sq  life_sq  floor  max_floor  material  build_year  \\\n",
       "0 2011-08-20     43.0     27.0    4.0        NaN       NaN         NaN   \n",
       "1 2011-08-23     34.0     19.0    3.0        NaN       NaN         NaN   \n",
       "2 2011-08-27     43.0     29.0    2.0        NaN       NaN         NaN   \n",
       "3 2011-09-01     89.0     50.0    9.0        NaN       NaN         NaN   \n",
       "4 2011-09-05     77.0     77.0    4.0        NaN       NaN         NaN   \n",
       "\n",
       "   num_room  kitch_sq  state  ... cafe_count_5000_price_2500  \\\n",
       "0       NaN       NaN    NaN  ...                          9   \n",
       "1       NaN       NaN    NaN  ...                         15   \n",
       "2       NaN       NaN    NaN  ...                         10   \n",
       "3       NaN       NaN    NaN  ...                         11   \n",
       "4       NaN       NaN    NaN  ...                        319   \n",
       "\n",
       "  cafe_count_5000_price_4000  cafe_count_5000_price_high  \\\n",
       "0                          4                           0   \n",
       "1                          3                           0   \n",
       "2                          3                           0   \n",
       "3                          2                           1   \n",
       "4                        108                          17   \n",
       "\n",
       "   big_church_count_5000  church_count_5000  mosque_count_5000  \\\n",
       "0                     13                 22                  1   \n",
       "1                     15                 29                  1   \n",
       "2                     11                 27                  0   \n",
       "3                      4                  4                  0   \n",
       "4                    135                236                  2   \n",
       "\n",
       "   leisure_count_5000  sport_count_5000  market_count_5000  trainOrTest  \n",
       "0                   0                52                  4        train  \n",
       "1                  10                66                 14        train  \n",
       "2                   4                67                 10        train  \n",
       "3                   0                26                  3        train  \n",
       "4                  91               195                 14        train  \n",
       "\n",
       "[5 rows x 291 columns]"
      ]
     },
     "execution_count": 5,
     "metadata": {},
     "output_type": "execute_result"
    }
   ],
   "source": [
    "df_all.head()"
   ]
  },
  {
   "cell_type": "code",
   "execution_count": 6,
   "metadata": {},
   "outputs": [
    {
     "name": "stdout",
     "output_type": "stream",
     "text": [
      "2011-08-20 00:00:00\n",
      "   timestamp  timedelta\n",
      "0 2011-08-20          0\n",
      "1 2011-08-23          3\n",
      "2 2011-08-27          7\n",
      "3 2011-09-01         12\n",
      "4 2011-09-05         16\n"
     ]
    }
   ],
   "source": [
    "# Convert the date into a number (of days since some point)\n",
    "fromDate = min(df_all['timestamp'])\n",
    "print(fromDate)\n",
    "df_all['timedelta'] = (df_all['timestamp'] - fromDate).dt.days.astype(int)\n",
    "print(df_all[['timestamp', 'timedelta']].head())\n",
    "df_all.drop('timestamp', axis = 1, inplace = True)"
   ]
  },
  {
   "cell_type": "markdown",
   "metadata": {},
   "source": [
    "# Step 3 : Check out the missing value"
   ]
  },
  {
   "cell_type": "code",
   "execution_count": 7,
   "metadata": {},
   "outputs": [
    {
     "data": {
      "text/plain": [
       "full_sq                  0\n",
       "life_sq               7559\n",
       "floor                  167\n",
       "max_floor             9572\n",
       "material              9572\n",
       "                      ... \n",
       "leisure_count_5000       0\n",
       "sport_count_5000         0\n",
       "market_count_5000        0\n",
       "trainOrTest              0\n",
       "timedelta                0\n",
       "Length: 291, dtype: int64"
      ]
     },
     "execution_count": 7,
     "metadata": {},
     "output_type": "execute_result"
    }
   ],
   "source": [
    "df_all.isnull().sum()"
   ]
  },
  {
   "cell_type": "code",
   "execution_count": 8,
   "metadata": {},
   "outputs": [],
   "source": [
    "from sklearn.impute import SimpleImputer"
   ]
  },
  {
   "cell_type": "markdown",
   "metadata": {},
   "source": [
    "##### Numerical missing Values Imputation"
   ]
  },
  {
   "cell_type": "code",
   "execution_count": 9,
   "metadata": {},
   "outputs": [],
   "source": [
    "num_var = df_all.select_dtypes(include = ['int64','float64']).columns.to_list()"
   ]
  },
  {
   "cell_type": "code",
   "execution_count": 10,
   "metadata": {},
   "outputs": [
    {
     "data": {
      "text/plain": [
       "full_sq                  0\n",
       "life_sq               7559\n",
       "floor                  167\n",
       "max_floor             9572\n",
       "material              9572\n",
       "                      ... \n",
       "church_count_5000        0\n",
       "mosque_count_5000        0\n",
       "leisure_count_5000       0\n",
       "sport_count_5000         0\n",
       "market_count_5000        0\n",
       "Length: 274, dtype: int64"
      ]
     },
     "execution_count": 10,
     "metadata": {},
     "output_type": "execute_result"
    }
   ],
   "source": [
    "df_all[num_var].isnull().sum()"
   ]
  },
  {
   "cell_type": "code",
   "execution_count": 11,
   "metadata": {},
   "outputs": [
    {
     "data": {
      "text/plain": [
       "SimpleImputer(add_indicator=False, copy=True, fill_value=None,\n",
       "              missing_values=nan, strategy='median', verbose=0)"
      ]
     },
     "execution_count": 11,
     "metadata": {},
     "output_type": "execute_result"
    }
   ],
   "source": [
    "imputer_median = SimpleImputer(strategy=\"median\")\n",
    "imputer_median.fit(df_all[num_var])"
   ]
  },
  {
   "cell_type": "code",
   "execution_count": 12,
   "metadata": {},
   "outputs": [
    {
     "data": {
      "text/plain": [
       "array([5.00000000e+01, 3.00000000e+01, 7.00000000e+00, 1.20000000e+01,\n",
       "       1.00000000e+00, 1.98000000e+03, 2.00000000e+00, 6.00000000e+00,\n",
       "       2.00000000e+00, 1.02072151e+07, 8.38440000e+04, 1.67525670e-01,\n",
       "       7.21575810e-02, 4.92600000e+03, 2.88100000e+03, 4.00000000e+00,\n",
       "       5.28500000e+03, 7.32700000e+03, 5.00000000e+00, 0.00000000e+00,\n",
       "       9.90000000e+02, 1.00000000e+00, 0.00000000e+00, 5.00000000e+00,\n",
       "       2.00000000e+00, 0.00000000e+00, 3.00000000e+00, 2.00000000e+00,\n",
       "       8.50830000e+04, 3.92270000e+04, 4.54100000e+04, 1.09880000e+04,\n",
       "       5.47000000e+03, 5.34700000e+03, 5.25600000e+04, 2.63820000e+04,\n",
       "       2.63330000e+04, 2.01840000e+04, 6.18000000e+03, 1.35400000e+04,\n",
       "       4.92600000e+03, 2.54900000e+03, 2.39000000e+03, 5.28500000e+03,\n",
       "       2.69300000e+03, 2.59200000e+03, 1.25080000e+04, 6.09600000e+03,\n",
       "       6.32100000e+03, 1.76620000e+04, 8.89600000e+03, 9.17400000e+03,\n",
       "       9.63300000e+03, 4.83500000e+03, 4.70200000e+03, 2.82000000e+02,\n",
       "       4.30000000e+01, 1.00000000e+00, 0.00000000e+00, 6.80000000e+01,\n",
       "       6.00000000e+00, 9.20000000e+01, 0.00000000e+00, 0.00000000e+00,\n",
       "       0.00000000e+00, 2.82000000e+02, 0.00000000e+00, 2.00000000e+00,\n",
       "       1.39000000e+02, 7.10000000e+01, 2.40000000e+01, 5.30000000e+01,\n",
       "       2.76954160e+00, 1.77057153e+00, 2.01663203e+01, 1.68052669e+00,\n",
       "       3.58987524e-01, 4.80207595e-01, 1.78734893e+00, 2.16846339e-01,\n",
       "       5.71574974e-01, 1.07795200e+01, 1.95458500e+00, 1.03679900e+01,\n",
       "       3.21386571e+00, 3.85663886e+01, 3.30000000e+01, 3.36353525e+00,\n",
       "       4.87579167e+00, 3.40000000e+01, 1.62834151e-01, 1.95400982e+00,\n",
       "       6.02776624e-01, 5.47099263e+00, 9.69299373e+00, 1.26116560e+01,\n",
       "       1.34905917e+01, 1.47262786e+01, 1.72183368e+00, 9.00000000e+00,\n",
       "       3.19101798e+00, 2.10000000e+01, 1.21810473e+00, 1.45657359e+01,\n",
       "       5.00000000e+01, 7.56889177e+00, 8.00000000e+00, 1.67355878e+01,\n",
       "       8.84088636e+00, 2.40554415e+00, 1.88711442e+00, 5.82749619e+00,\n",
       "       3.85547645e+00, 1.19104419e+01, 2.88768297e+00, 6.45429775e-01,\n",
       "       2.79988852e+00, 5.50568536e+00, 6.94765237e+00, 2.78551571e+00,\n",
       "       1.92131402e+00, 1.12901916e+01, 2.28720146e+00, 4.23166068e+00,\n",
       "       1.98621658e+00, 8.29027903e-01, 1.05299927e+00, 8.89734800e-01,\n",
       "       5.02806814e-01, 1.46019188e+00, 8.70801509e-01, 6.54356324e+00,\n",
       "       8.60639967e+00, 5.55694838e+00, 4.06416103e+00, 4.08914149e-01,\n",
       "       8.07000000e+00, 0.00000000e+00, 0.00000000e+00, 0.00000000e+00,\n",
       "       0.00000000e+00, 0.00000000e+00, 1.00000000e+00, 6.68750000e+02,\n",
       "       1.16667000e+03, 9.16670000e+02, 0.00000000e+00, 0.00000000e+00,\n",
       "       0.00000000e+00, 0.00000000e+00, 0.00000000e+00, 0.00000000e+00,\n",
       "       0.00000000e+00, 0.00000000e+00, 0.00000000e+00, 0.00000000e+00,\n",
       "       0.00000000e+00, 0.00000000e+00, 0.00000000e+00, 1.28600000e+01,\n",
       "       4.06000000e+00, 0.00000000e+00, 0.00000000e+00, 1.00000000e+00,\n",
       "       8.49900000e+03, 4.00000000e+00, 6.75000000e+02, 1.15000000e+03,\n",
       "       9.16050000e+02, 0.00000000e+00, 1.00000000e+00, 1.00000000e+00,\n",
       "       1.00000000e+00, 0.00000000e+00, 0.00000000e+00, 0.00000000e+00,\n",
       "       0.00000000e+00, 1.00000000e+00, 0.00000000e+00, 0.00000000e+00,\n",
       "       2.00000000e+00, 0.00000000e+00, 1.51200000e+01, 7.78000000e+00,\n",
       "       1.00000000e+00, 1.90000000e+04, 3.00000000e+00, 5.33500000e+04,\n",
       "       1.00000000e+01, 6.93330000e+02, 1.16667000e+03, 9.28000000e+02,\n",
       "       1.00000000e+00, 2.00000000e+00, 3.00000000e+00, 2.00000000e+00,\n",
       "       1.00000000e+00, 0.00000000e+00, 0.00000000e+00, 1.00000000e+00,\n",
       "       1.00000000e+00, 0.00000000e+00, 0.00000000e+00, 5.00000000e+00,\n",
       "       0.00000000e+00, 1.77700000e+01, 8.92000000e+00, 2.00000000e+00,\n",
       "       6.38080000e+04, 5.00000000e+00, 1.17300000e+05, 1.80000000e+01,\n",
       "       6.86960000e+02, 1.16216000e+03, 9.23530000e+02, 1.00000000e+00,\n",
       "       4.00000000e+00, 6.00000000e+00, 4.00000000e+00, 1.00000000e+00,\n",
       "       0.00000000e+00, 0.00000000e+00, 1.00000000e+00, 3.00000000e+00,\n",
       "       0.00000000e+00, 0.00000000e+00, 9.00000000e+00, 1.00000000e+00,\n",
       "       2.04100000e+01, 9.91000000e+00, 5.00000000e+00, 1.54757000e+05,\n",
       "       1.10000000e+01, 2.99547000e+05, 4.20000000e+01, 7.07765000e+02,\n",
       "       1.20588000e+03, 9.61110000e+02, 3.00000000e+00, 1.00000000e+01,\n",
       "       1.40000000e+01, 1.00000000e+01, 3.00000000e+00, 1.00000000e+00,\n",
       "       0.00000000e+00, 2.00000000e+00, 6.00000000e+00, 0.00000000e+00,\n",
       "       1.00000000e+00, 1.90000000e+01, 2.00000000e+00, 1.98900000e+01,\n",
       "       9.49000000e+00, 1.60000000e+01, 4.67146000e+05, 3.10000000e+01,\n",
       "       1.10007300e+06, 1.10000000e+02, 7.25200000e+02, 1.22008500e+03,\n",
       "       9.73250000e+02, 9.00000000e+00, 2.90000000e+01, 3.70000000e+01,\n",
       "       2.50000000e+01, 9.00000000e+00, 2.00000000e+00, 0.00000000e+00,\n",
       "       7.00000000e+00, 1.60000000e+01, 0.00000000e+00, 2.00000000e+00,\n",
       "       4.80000000e+01, 5.00000000e+00])"
      ]
     },
     "execution_count": 12,
     "metadata": {},
     "output_type": "execute_result"
    }
   ],
   "source": [
    "imputer_median.statistics_"
   ]
  },
  {
   "cell_type": "code",
   "execution_count": 13,
   "metadata": {},
   "outputs": [
    {
     "data": {
      "text/plain": [
       "array([[ 43.  ,  27.  ,   4.  , ...,   0.  ,  52.  ,   4.  ],\n",
       "       [ 34.  ,  19.  ,   3.  , ...,  10.  ,  66.  ,  14.  ],\n",
       "       [ 43.  ,  29.  ,   2.  , ...,   4.  ,  67.  ,  10.  ],\n",
       "       ...,\n",
       "       [ 41.08,   1.  ,  12.  , ..., 105.  , 203.  ,  13.  ],\n",
       "       [ 34.8 ,  19.8 ,   8.  , ...,   2.  ,  43.  ,  10.  ],\n",
       "       [ 63.  ,  43.8 ,   5.  , ...,   4.  ,  42.  ,  11.  ]])"
      ]
     },
     "execution_count": 13,
     "metadata": {},
     "output_type": "execute_result"
    }
   ],
   "source": [
    "imputer_median.transform(df_all[num_var])"
   ]
  },
  {
   "cell_type": "code",
   "execution_count": 14,
   "metadata": {},
   "outputs": [],
   "source": [
    "df_all[num_var] = imputer_median.transform(df_all[num_var])"
   ]
  },
  {
   "cell_type": "code",
   "execution_count": 15,
   "metadata": {},
   "outputs": [
    {
     "data": {
      "text/plain": [
       "0"
      ]
     },
     "execution_count": 15,
     "metadata": {},
     "output_type": "execute_result"
    }
   ],
   "source": [
    "df_all[num_var].isnull().sum().sum()"
   ]
  },
  {
   "cell_type": "markdown",
   "metadata": {},
   "source": [
    "##### Categorical missing Value Imputations "
   ]
  },
  {
   "cell_type": "code",
   "execution_count": 16,
   "metadata": {},
   "outputs": [
    {
     "data": {
      "text/plain": [
       "['product_type',\n",
       " 'sub_area',\n",
       " 'culture_objects_top_25',\n",
       " 'thermal_power_plant_raion',\n",
       " 'incineration_raion',\n",
       " 'oil_chemistry_raion',\n",
       " 'radiation_raion',\n",
       " 'railroad_terminal_raion',\n",
       " 'big_market_raion',\n",
       " 'nuclear_reactor_raion',\n",
       " 'detention_facility_raion',\n",
       " 'water_1line',\n",
       " 'big_road1_1line',\n",
       " 'railroad_1line',\n",
       " 'ecology',\n",
       " 'trainOrTest']"
      ]
     },
     "execution_count": 16,
     "metadata": {},
     "output_type": "execute_result"
    }
   ],
   "source": [
    "cat_var = df_all.select_dtypes(include = ['O']).columns.to_list()\n",
    "cat_var"
   ]
  },
  {
   "cell_type": "code",
   "execution_count": 17,
   "metadata": {},
   "outputs": [
    {
     "data": {
      "text/plain": [
       "product_type                 33\n",
       "sub_area                      0\n",
       "culture_objects_top_25        0\n",
       "thermal_power_plant_raion     0\n",
       "incineration_raion            0\n",
       "oil_chemistry_raion           0\n",
       "radiation_raion               0\n",
       "railroad_terminal_raion       0\n",
       "big_market_raion              0\n",
       "nuclear_reactor_raion         0\n",
       "detention_facility_raion      0\n",
       "water_1line                   0\n",
       "big_road1_1line               0\n",
       "railroad_1line                0\n",
       "ecology                       0\n",
       "trainOrTest                   0\n",
       "dtype: int64"
      ]
     },
     "execution_count": 17,
     "metadata": {},
     "output_type": "execute_result"
    }
   ],
   "source": [
    "df_all[cat_var].isnull().sum()"
   ]
  },
  {
   "cell_type": "code",
   "execution_count": 18,
   "metadata": {},
   "outputs": [
    {
     "data": {
      "text/plain": [
       "SimpleImputer(add_indicator=False, copy=True, fill_value=None,\n",
       "              missing_values=nan, strategy='most_frequent', verbose=0)"
      ]
     },
     "execution_count": 18,
     "metadata": {},
     "output_type": "execute_result"
    }
   ],
   "source": [
    "imputer_mode = SimpleImputer(strategy=\"most_frequent\")\n",
    "imputer_mode.fit(df_all[cat_var])"
   ]
  },
  {
   "cell_type": "code",
   "execution_count": 19,
   "metadata": {},
   "outputs": [
    {
     "data": {
      "text/plain": [
       "array(['Investment', 'Poselenie Sosenskoe', 'no', 'no', 'no', 'no', 'no',\n",
       "       'no', 'no', 'no', 'no', 'no', 'no', 'no', 'poor', 'train'],\n",
       "      dtype=object)"
      ]
     },
     "execution_count": 19,
     "metadata": {},
     "output_type": "execute_result"
    }
   ],
   "source": [
    "imputer_mode.statistics_"
   ]
  },
  {
   "cell_type": "code",
   "execution_count": 20,
   "metadata": {},
   "outputs": [
    {
     "data": {
      "text/plain": [
       "array([['Investment', 'Bibirevo', 'no', ..., 'no', 'good', 'train'],\n",
       "       ['Investment', 'Nagatinskij Zaton', 'yes', ..., 'no', 'excellent',\n",
       "        'train'],\n",
       "       ['Investment', \"Tekstil'shhiki\", 'no', ..., 'no', 'poor', 'train'],\n",
       "       ...,\n",
       "       ['OwnerOccupier', 'Tverskoe', 'yes', ..., 'no', 'excellent',\n",
       "        'test'],\n",
       "       ['Investment', 'Orehovo-Borisovo Juzhnoe', 'no', ..., 'no',\n",
       "        'poor', 'test'],\n",
       "       ['Investment', 'Chertanovo Severnoe', 'no', ..., 'no', 'poor',\n",
       "        'test']], dtype=object)"
      ]
     },
     "execution_count": 20,
     "metadata": {},
     "output_type": "execute_result"
    }
   ],
   "source": [
    "imputer_mode.transform(df_all[cat_var])"
   ]
  },
  {
   "cell_type": "code",
   "execution_count": 21,
   "metadata": {},
   "outputs": [],
   "source": [
    "df_all[cat_var] = imputer_mode.transform(df_all[cat_var])"
   ]
  },
  {
   "cell_type": "code",
   "execution_count": 22,
   "metadata": {},
   "outputs": [
    {
     "data": {
      "text/plain": [
       "0"
      ]
     },
     "execution_count": 22,
     "metadata": {},
     "output_type": "execute_result"
    }
   ],
   "source": [
    "df_all.isnull().sum().sum()"
   ]
  },
  {
   "cell_type": "markdown",
   "metadata": {},
   "source": [
    "# Step 4 : See the Categorical Values"
   ]
  },
  {
   "cell_type": "code",
   "execution_count": 23,
   "metadata": {},
   "outputs": [
    {
     "data": {
      "text/plain": [
       "['product_type',\n",
       " 'sub_area',\n",
       " 'culture_objects_top_25',\n",
       " 'thermal_power_plant_raion',\n",
       " 'incineration_raion',\n",
       " 'oil_chemistry_raion',\n",
       " 'radiation_raion',\n",
       " 'railroad_terminal_raion',\n",
       " 'big_market_raion',\n",
       " 'nuclear_reactor_raion',\n",
       " 'detention_facility_raion',\n",
       " 'water_1line',\n",
       " 'big_road1_1line',\n",
       " 'railroad_1line',\n",
       " 'ecology',\n",
       " 'trainOrTest']"
      ]
     },
     "execution_count": 23,
     "metadata": {},
     "output_type": "execute_result"
    }
   ],
   "source": [
    "cat_var"
   ]
  },
  {
   "cell_type": "code",
   "execution_count": 24,
   "metadata": {},
   "outputs": [],
   "source": [
    " df_all2 = pd.get_dummies(df_all,drop_first=True )"
   ]
  },
  {
   "cell_type": "code",
   "execution_count": null,
   "metadata": {},
   "outputs": [],
   "source": []
  },
  {
   "cell_type": "code",
   "execution_count": 25,
   "metadata": {},
   "outputs": [
    {
     "data": {
      "text/plain": [
       "(7662, 438)"
      ]
     },
     "execution_count": 25,
     "metadata": {},
     "output_type": "execute_result"
    }
   ],
   "source": [
    "# Prepare separate train and test datasets\n",
    "idx_train = df_all2['trainOrTest_train'] == 1\n",
    "idx_test = df_all2['trainOrTest_train'] == 0\n",
    "\n",
    "x_train = df_all2[idx_train]\n",
    "x_test = df_all2[idx_test]\n",
    "x_test = x_test[topest]"
   ]
  },
  {
   "cell_type": "code",
   "execution_count": 26,
   "metadata": {},
   "outputs": [
    {
     "data": {
      "text/html": [
       "<div>\n",
       "<style scoped>\n",
       "    .dataframe tbody tr th:only-of-type {\n",
       "        vertical-align: middle;\n",
       "    }\n",
       "\n",
       "    .dataframe tbody tr th {\n",
       "        vertical-align: top;\n",
       "    }\n",
       "\n",
       "    .dataframe thead th {\n",
       "        text-align: right;\n",
       "    }\n",
       "</style>\n",
       "<table border=\"1\" class=\"dataframe\">\n",
       "  <thead>\n",
       "    <tr style=\"text-align: right;\">\n",
       "      <th></th>\n",
       "      <th>full_sq</th>\n",
       "      <th>life_sq</th>\n",
       "      <th>floor</th>\n",
       "      <th>max_floor</th>\n",
       "      <th>material</th>\n",
       "      <th>build_year</th>\n",
       "      <th>num_room</th>\n",
       "      <th>kitch_sq</th>\n",
       "      <th>state</th>\n",
       "      <th>area_m</th>\n",
       "      <th>...</th>\n",
       "      <th>nuclear_reactor_raion_yes</th>\n",
       "      <th>detention_facility_raion_yes</th>\n",
       "      <th>water_1line_yes</th>\n",
       "      <th>big_road1_1line_yes</th>\n",
       "      <th>railroad_1line_yes</th>\n",
       "      <th>ecology_good</th>\n",
       "      <th>ecology_no data</th>\n",
       "      <th>ecology_poor</th>\n",
       "      <th>ecology_satisfactory</th>\n",
       "      <th>trainOrTest_train</th>\n",
       "    </tr>\n",
       "  </thead>\n",
       "  <tbody>\n",
       "    <tr>\n",
       "      <th>0</th>\n",
       "      <td>43.0</td>\n",
       "      <td>27.0</td>\n",
       "      <td>4.0</td>\n",
       "      <td>12.0</td>\n",
       "      <td>1.0</td>\n",
       "      <td>1980.0</td>\n",
       "      <td>2.0</td>\n",
       "      <td>6.0</td>\n",
       "      <td>2.0</td>\n",
       "      <td>6.407578e+06</td>\n",
       "      <td>...</td>\n",
       "      <td>0</td>\n",
       "      <td>0</td>\n",
       "      <td>0</td>\n",
       "      <td>0</td>\n",
       "      <td>0</td>\n",
       "      <td>1</td>\n",
       "      <td>0</td>\n",
       "      <td>0</td>\n",
       "      <td>0</td>\n",
       "      <td>1</td>\n",
       "    </tr>\n",
       "    <tr>\n",
       "      <th>1</th>\n",
       "      <td>34.0</td>\n",
       "      <td>19.0</td>\n",
       "      <td>3.0</td>\n",
       "      <td>12.0</td>\n",
       "      <td>1.0</td>\n",
       "      <td>1980.0</td>\n",
       "      <td>2.0</td>\n",
       "      <td>6.0</td>\n",
       "      <td>2.0</td>\n",
       "      <td>9.589337e+06</td>\n",
       "      <td>...</td>\n",
       "      <td>0</td>\n",
       "      <td>0</td>\n",
       "      <td>0</td>\n",
       "      <td>0</td>\n",
       "      <td>0</td>\n",
       "      <td>0</td>\n",
       "      <td>0</td>\n",
       "      <td>0</td>\n",
       "      <td>0</td>\n",
       "      <td>1</td>\n",
       "    </tr>\n",
       "    <tr>\n",
       "      <th>2</th>\n",
       "      <td>43.0</td>\n",
       "      <td>29.0</td>\n",
       "      <td>2.0</td>\n",
       "      <td>12.0</td>\n",
       "      <td>1.0</td>\n",
       "      <td>1980.0</td>\n",
       "      <td>2.0</td>\n",
       "      <td>6.0</td>\n",
       "      <td>2.0</td>\n",
       "      <td>4.808270e+06</td>\n",
       "      <td>...</td>\n",
       "      <td>0</td>\n",
       "      <td>0</td>\n",
       "      <td>0</td>\n",
       "      <td>0</td>\n",
       "      <td>0</td>\n",
       "      <td>0</td>\n",
       "      <td>0</td>\n",
       "      <td>1</td>\n",
       "      <td>0</td>\n",
       "      <td>1</td>\n",
       "    </tr>\n",
       "    <tr>\n",
       "      <th>3</th>\n",
       "      <td>89.0</td>\n",
       "      <td>50.0</td>\n",
       "      <td>9.0</td>\n",
       "      <td>12.0</td>\n",
       "      <td>1.0</td>\n",
       "      <td>1980.0</td>\n",
       "      <td>2.0</td>\n",
       "      <td>6.0</td>\n",
       "      <td>2.0</td>\n",
       "      <td>1.258354e+07</td>\n",
       "      <td>...</td>\n",
       "      <td>0</td>\n",
       "      <td>0</td>\n",
       "      <td>0</td>\n",
       "      <td>0</td>\n",
       "      <td>0</td>\n",
       "      <td>1</td>\n",
       "      <td>0</td>\n",
       "      <td>0</td>\n",
       "      <td>0</td>\n",
       "      <td>1</td>\n",
       "    </tr>\n",
       "    <tr>\n",
       "      <th>4</th>\n",
       "      <td>77.0</td>\n",
       "      <td>77.0</td>\n",
       "      <td>4.0</td>\n",
       "      <td>12.0</td>\n",
       "      <td>1.0</td>\n",
       "      <td>1980.0</td>\n",
       "      <td>2.0</td>\n",
       "      <td>6.0</td>\n",
       "      <td>2.0</td>\n",
       "      <td>8.398461e+06</td>\n",
       "      <td>...</td>\n",
       "      <td>0</td>\n",
       "      <td>0</td>\n",
       "      <td>0</td>\n",
       "      <td>0</td>\n",
       "      <td>1</td>\n",
       "      <td>0</td>\n",
       "      <td>0</td>\n",
       "      <td>0</td>\n",
       "      <td>0</td>\n",
       "      <td>1</td>\n",
       "    </tr>\n",
       "  </tbody>\n",
       "</table>\n",
       "<p>5 rows × 438 columns</p>\n",
       "</div>"
      ],
      "text/plain": [
       "   full_sq  life_sq  floor  max_floor  material  build_year  num_room  \\\n",
       "0     43.0     27.0    4.0       12.0       1.0      1980.0       2.0   \n",
       "1     34.0     19.0    3.0       12.0       1.0      1980.0       2.0   \n",
       "2     43.0     29.0    2.0       12.0       1.0      1980.0       2.0   \n",
       "3     89.0     50.0    9.0       12.0       1.0      1980.0       2.0   \n",
       "4     77.0     77.0    4.0       12.0       1.0      1980.0       2.0   \n",
       "\n",
       "   kitch_sq  state        area_m  ...  nuclear_reactor_raion_yes  \\\n",
       "0       6.0    2.0  6.407578e+06  ...                          0   \n",
       "1       6.0    2.0  9.589337e+06  ...                          0   \n",
       "2       6.0    2.0  4.808270e+06  ...                          0   \n",
       "3       6.0    2.0  1.258354e+07  ...                          0   \n",
       "4       6.0    2.0  8.398461e+06  ...                          0   \n",
       "\n",
       "   detention_facility_raion_yes  water_1line_yes  big_road1_1line_yes  \\\n",
       "0                             0                0                    0   \n",
       "1                             0                0                    0   \n",
       "2                             0                0                    0   \n",
       "3                             0                0                    0   \n",
       "4                             0                0                    0   \n",
       "\n",
       "   railroad_1line_yes  ecology_good  ecology_no data  ecology_poor  \\\n",
       "0                   0             1                0             0   \n",
       "1                   0             0                0             0   \n",
       "2                   0             0                0             1   \n",
       "3                   0             1                0             0   \n",
       "4                   1             0                0             0   \n",
       "\n",
       "   ecology_satisfactory  trainOrTest_train  \n",
       "0                     0                  1  \n",
       "1                     0                  1  \n",
       "2                     0                  1  \n",
       "3                     0                  1  \n",
       "4                     0                  1  \n",
       "\n",
       "[5 rows x 438 columns]"
      ]
     },
     "execution_count": 26,
     "metadata": {},
     "output_type": "execute_result"
    }
   ],
   "source": [
    "x_train.head()"
   ]
  },
  {
   "cell_type": "code",
   "execution_count": 27,
   "metadata": {},
   "outputs": [],
   "source": [
    "from sklearn.feature_selection import SelectKBest\n",
    "from sklearn.feature_selection import chi2"
   ]
  },
  {
   "cell_type": "code",
   "execution_count": 36,
   "metadata": {},
   "outputs": [],
   "source": [
    "bestfeatures = SelectKBest(score_func=chi2,k = 40)\n",
    "fit = bestfeatures.fit(x_train,y)"
   ]
  },
  {
   "cell_type": "code",
   "execution_count": 38,
   "metadata": {},
   "outputs": [],
   "source": [
    "df_scores = pd.DataFrame(fit.scores_)\n",
    "df_column = pd.DataFrame(x_train.columns)\n",
    "featurescores = pd.concat([df_scores,df_column],axis = 1)\n",
    "featurescores.columns = ['Score','feature']"
   ]
  },
  {
   "cell_type": "code",
   "execution_count": 39,
   "metadata": {},
   "outputs": [
    {
     "data": {
      "text/html": [
       "<div>\n",
       "<style scoped>\n",
       "    .dataframe tbody tr th:only-of-type {\n",
       "        vertical-align: middle;\n",
       "    }\n",
       "\n",
       "    .dataframe tbody tr th {\n",
       "        vertical-align: top;\n",
       "    }\n",
       "\n",
       "    .dataframe thead th {\n",
       "        text-align: right;\n",
       "    }\n",
       "</style>\n",
       "<table border=\"1\" class=\"dataframe\">\n",
       "  <thead>\n",
       "    <tr style=\"text-align: right;\">\n",
       "      <th></th>\n",
       "      <th>Score</th>\n",
       "      <th>feature</th>\n",
       "    </tr>\n",
       "  </thead>\n",
       "  <tbody>\n",
       "    <tr>\n",
       "      <th>0</th>\n",
       "      <td>4.757226e+05</td>\n",
       "      <td>full_sq</td>\n",
       "    </tr>\n",
       "    <tr>\n",
       "      <th>1</th>\n",
       "      <td>1.872955e+06</td>\n",
       "      <td>life_sq</td>\n",
       "    </tr>\n",
       "    <tr>\n",
       "      <th>2</th>\n",
       "      <td>5.670525e+04</td>\n",
       "      <td>floor</td>\n",
       "    </tr>\n",
       "    <tr>\n",
       "      <th>3</th>\n",
       "      <td>4.474310e+04</td>\n",
       "      <td>max_floor</td>\n",
       "    </tr>\n",
       "    <tr>\n",
       "      <th>4</th>\n",
       "      <td>1.286022e+04</td>\n",
       "      <td>material</td>\n",
       "    </tr>\n",
       "    <tr>\n",
       "      <th>...</th>\n",
       "      <td>...</td>\n",
       "      <td>...</td>\n",
       "    </tr>\n",
       "    <tr>\n",
       "      <th>433</th>\n",
       "      <td>8.577024e+03</td>\n",
       "      <td>ecology_good</td>\n",
       "    </tr>\n",
       "    <tr>\n",
       "      <th>434</th>\n",
       "      <td>1.836520e+04</td>\n",
       "      <td>ecology_no data</td>\n",
       "    </tr>\n",
       "    <tr>\n",
       "      <th>435</th>\n",
       "      <td>6.381795e+03</td>\n",
       "      <td>ecology_poor</td>\n",
       "    </tr>\n",
       "    <tr>\n",
       "      <th>436</th>\n",
       "      <td>7.375808e+03</td>\n",
       "      <td>ecology_satisfactory</td>\n",
       "    </tr>\n",
       "    <tr>\n",
       "      <th>437</th>\n",
       "      <td>1.448279e-28</td>\n",
       "      <td>trainOrTest_train</td>\n",
       "    </tr>\n",
       "  </tbody>\n",
       "</table>\n",
       "<p>438 rows × 2 columns</p>\n",
       "</div>"
      ],
      "text/plain": [
       "            Score               feature\n",
       "0    4.757226e+05               full_sq\n",
       "1    1.872955e+06               life_sq\n",
       "2    5.670525e+04                 floor\n",
       "3    4.474310e+04             max_floor\n",
       "4    1.286022e+04              material\n",
       "..            ...                   ...\n",
       "433  8.577024e+03          ecology_good\n",
       "434  1.836520e+04       ecology_no data\n",
       "435  6.381795e+03          ecology_poor\n",
       "436  7.375808e+03  ecology_satisfactory\n",
       "437  1.448279e-28     trainOrTest_train\n",
       "\n",
       "[438 rows x 2 columns]"
      ]
     },
     "execution_count": 39,
     "metadata": {},
     "output_type": "execute_result"
    }
   ],
   "source": [
    "featurescores"
   ]
  },
  {
   "cell_type": "code",
   "execution_count": 55,
   "metadata": {},
   "outputs": [],
   "source": [
    "top = featurescores.nlargest(40,'Score')"
   ]
  },
  {
   "cell_type": "code",
   "execution_count": 57,
   "metadata": {},
   "outputs": [],
   "source": [
    "topest = top['feature'].to_list()"
   ]
  },
  {
   "cell_type": "code",
   "execution_count": 58,
   "metadata": {},
   "outputs": [
    {
     "data": {
      "text/plain": [
       "['area_m',\n",
       " 'office_sqm_5000',\n",
       " 'office_sqm_3000',\n",
       " 'office_sqm_2000',\n",
       " 'trc_sqm_5000',\n",
       " 'office_sqm_1500',\n",
       " 'trc_sqm_3000',\n",
       " 'trc_sqm_1000',\n",
       " 'trc_sqm_500',\n",
       " 'trc_sqm_2000',\n",
       " 'trc_sqm_1500',\n",
       " 'office_sqm_1000',\n",
       " 'full_all',\n",
       " 'female_f',\n",
       " 'male_f',\n",
       " 'office_sqm_500',\n",
       " 'build_year',\n",
       " 'raion_popul',\n",
       " '16_29_all',\n",
       " 'work_all',\n",
       " '16_29_female',\n",
       " '16_29_male',\n",
       " 'work_male',\n",
       " 'work_female',\n",
       " 'ekder_all',\n",
       " 'ekder_female',\n",
       " '0_17_all',\n",
       " 'young_all',\n",
       " '0_13_all',\n",
       " '0_17_male',\n",
       " '0_17_female',\n",
       " 'ekder_male',\n",
       " 'young_male',\n",
       " 'young_female',\n",
       " 'children_school',\n",
       " '7_14_all',\n",
       " 'children_preschool',\n",
       " '0_6_all',\n",
       " '0_13_male',\n",
       " '0_13_female']"
      ]
     },
     "execution_count": 58,
     "metadata": {},
     "output_type": "execute_result"
    }
   ],
   "source": []
  },
  {
   "cell_type": "code",
   "execution_count": null,
   "metadata": {},
   "outputs": [],
   "source": []
  },
  {
   "cell_type": "markdown",
   "metadata": {},
   "source": [
    "# Step 6 : Feature Scaling"
   ]
  },
  {
   "cell_type": "markdown",
   "metadata": {},
   "source": [
    "I am going to use Ranom Forest Regresser. When we use Random forest Regresser, Then we did not need any Features Scaling."
   ]
  },
  {
   "cell_type": "markdown",
   "metadata": {},
   "source": [
    "# Model training"
   ]
  },
  {
   "cell_type": "code",
   "execution_count": 59,
   "metadata": {},
   "outputs": [],
   "source": [
    "x_train = x_train[topest]"
   ]
  },
  {
   "cell_type": "code",
   "execution_count": 73,
   "metadata": {},
   "outputs": [],
   "source": [
    "# Step 1: Instantiate a random forest regressor\n",
    "Model = RandomForestRegressor(n_estimators = 100, \n",
    "                              random_state = 2017, \n",
    "                              oob_score = True, \n",
    "                              max_features = 20,\n",
    "                              min_samples_leaf = 8)"
   ]
  },
  {
   "cell_type": "code",
   "execution_count": 74,
   "metadata": {},
   "outputs": [
    {
     "data": {
      "text/plain": [
       "RandomForestRegressor(bootstrap=True, ccp_alpha=0.0, criterion='mse',\n",
       "                      max_depth=None, max_features=20, max_leaf_nodes=None,\n",
       "                      max_samples=None, min_impurity_decrease=0.0,\n",
       "                      min_impurity_split=None, min_samples_leaf=8,\n",
       "                      min_samples_split=2, min_weight_fraction_leaf=0.0,\n",
       "                      n_estimators=100, n_jobs=None, oob_score=True,\n",
       "                      random_state=2017, verbose=0, warm_start=False)"
      ]
     },
     "execution_count": 74,
     "metadata": {},
     "output_type": "execute_result"
    }
   ],
   "source": [
    "Model.fit(x_train, y)"
   ]
  },
  {
   "cell_type": "code",
   "execution_count": 75,
   "metadata": {},
   "outputs": [
    {
     "name": "stdout",
     "output_type": "stream",
     "text": [
      "shape of test x (7662, 40)\n",
      "shape of test y (7662, 1)\n"
     ]
    }
   ],
   "source": [
    "print('shape of test x',x_test.shape)\n",
    "print('shape of test y',y_test.shape)"
   ]
  },
  {
   "cell_type": "code",
   "execution_count": 71,
   "metadata": {},
   "outputs": [],
   "source": [
    "y_test.drop('id',axis = 1,inplace = True)"
   ]
  },
  {
   "cell_type": "code",
   "execution_count": 64,
   "metadata": {},
   "outputs": [],
   "source": [
    "x_test = x_test[topest]"
   ]
  },
  {
   "cell_type": "code",
   "execution_count": 72,
   "metadata": {},
   "outputs": [
    {
     "data": {
      "text/plain": [
       "-1.2148978075449917e+30"
      ]
     },
     "execution_count": 72,
     "metadata": {},
     "output_type": "execute_result"
    }
   ],
   "source": [
    "Model.score(x_test,y_test)"
   ]
  },
  {
   "cell_type": "code",
   "execution_count": null,
   "metadata": {},
   "outputs": [],
   "source": []
  },
  {
   "cell_type": "code",
   "execution_count": null,
   "metadata": {},
   "outputs": [],
   "source": []
  },
  {
   "cell_type": "code",
   "execution_count": null,
   "metadata": {},
   "outputs": [],
   "source": []
  },
  {
   "cell_type": "code",
   "execution_count": null,
   "metadata": {},
   "outputs": [],
   "source": []
  },
  {
   "cell_type": "code",
   "execution_count": null,
   "metadata": {},
   "outputs": [],
   "source": []
  },
  {
   "cell_type": "code",
   "execution_count": null,
   "metadata": {},
   "outputs": [],
   "source": []
  },
  {
   "cell_type": "code",
   "execution_count": null,
   "metadata": {},
   "outputs": [],
   "source": []
  },
  {
   "cell_type": "code",
   "execution_count": null,
   "metadata": {},
   "outputs": [],
   "source": []
  },
  {
   "cell_type": "code",
   "execution_count": null,
   "metadata": {},
   "outputs": [],
   "source": []
  },
  {
   "cell_type": "code",
   "execution_count": null,
   "metadata": {},
   "outputs": [],
   "source": []
  },
  {
   "cell_type": "code",
   "execution_count": null,
   "metadata": {},
   "outputs": [],
   "source": []
  },
  {
   "cell_type": "code",
   "execution_count": null,
   "metadata": {},
   "outputs": [],
   "source": []
  },
  {
   "cell_type": "code",
   "execution_count": null,
   "metadata": {},
   "outputs": [],
   "source": []
  },
  {
   "cell_type": "code",
   "execution_count": null,
   "metadata": {},
   "outputs": [],
   "source": []
  }
 ],
 "metadata": {
  "kernelspec": {
   "display_name": "Python 3",
   "language": "python",
   "name": "python3"
  },
  "language_info": {
   "codemirror_mode": {
    "name": "ipython",
    "version": 3
   },
   "file_extension": ".py",
   "mimetype": "text/x-python",
   "name": "python",
   "nbconvert_exporter": "python",
   "pygments_lexer": "ipython3",
   "version": "3.7.6"
  }
 },
 "nbformat": 4,
 "nbformat_minor": 4
}
